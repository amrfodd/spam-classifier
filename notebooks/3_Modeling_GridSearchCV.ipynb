{
 "cells": [
  {
   "cell_type": "markdown",
   "id": "c2d11a44",
   "metadata": {},
   "source": [
    "# Spam Classifier"
   ]
  },
  {
   "cell_type": "markdown",
   "id": "8e79b41d",
   "metadata": {},
   "source": [
    "### 1) Import libraries\n"
   ]
  },
  {
   "cell_type": "code",
   "execution_count": 13,
   "id": "fe9096b0",
   "metadata": {},
   "outputs": [],
   "source": [
    "import numpy as np\n",
    "import pandas as pd\n",
    "import pickle\n",
    "import matplotlib.pyplot as plt\n",
    "import seaborn as sns\n",
    "\n",
    "# sklearn modules\n",
    "from sklearn.model_selection import train_test_split\n",
    "from sklearn.feature_extraction.text import CountVectorizer\n",
    "from sklearn.feature_extraction.text import TfidfVectorizer\n",
    "from sklearn.model_selection import cross_val_score\n",
    "from sklearn.model_selection import StratifiedKFold, StratifiedShuffleSplit\n",
    "from sklearn.model_selection import GridSearchCV\n",
    "from sklearn.model_selection import learning_curve\n",
    "from sklearn.naive_bayes import MultinomialNB\n",
    "from sklearn.svm import SVC\n",
    "from sklearn.ensemble import RandomForestClassifier\n",
    "from sklearn.decomposition import TruncatedSVD\n",
    "from sklearn.pipeline import Pipeline\n",
    "\n",
    "from sklearn.metrics import (\n",
    "    accuracy_score,\n",
    "    classification_report,\n",
    "    plot_confusion_matrix,\n",
    "    f1_score,\n",
    "    roc_auc_score,\n",
    "    confusion_matrix\n",
    ")"
   ]
  },
  {
   "cell_type": "markdown",
   "id": "5339ed37",
   "metadata": {},
   "source": [
    "### 2) Data Loading"
   ]
  },
  {
   "cell_type": "code",
   "execution_count": 2,
   "id": "f88602b0",
   "metadata": {},
   "outputs": [],
   "source": [
    "### Load TF-IDF Vectors\n",
    "\n",
    "with open('../Vectors/train_vector.pkl', 'rb') as handle:\n",
    "    X_train = pickle.load(handle)\n",
    "\n",
    "with open('../Vectors/test_vector.pkl', 'rb') as handle:\n",
    "    X_test = pickle.load(handle)"
   ]
  },
  {
   "cell_type": "code",
   "execution_count": 3,
   "id": "c3a16451",
   "metadata": {},
   "outputs": [],
   "source": [
    "# ## Load Label Vectors\n",
    "\n",
    "with open('../Vectors/train_label.pkl', 'rb') as handle:\n",
    "    y_train = pickle.load(handle)\n",
    "\n",
    "with open('../Vectors/test_label.pkl', 'rb') as handle:\n",
    "    y_test = pickle.load(handle)"
   ]
  },
  {
   "cell_type": "markdown",
   "id": "e3a0f02d",
   "metadata": {},
   "source": [
    "## 3) Modeling"
   ]
  },
  {
   "cell_type": "code",
   "execution_count": 4,
   "id": "edbfdcbc",
   "metadata": {},
   "outputs": [
    {
     "name": "stdout",
     "output_type": "stream",
     "text": [
      "              precision    recall  f1-score   support\n",
      "\n",
      "           0       1.00      0.97      0.99       694\n",
      "           1       0.82      0.99      0.89        81\n",
      "\n",
      "    accuracy                           0.98       775\n",
      "   macro avg       0.91      0.98      0.94       775\n",
      "weighted avg       0.98      0.98      0.98       775\n",
      "\n"
     ]
    }
   ],
   "source": [
    "# Fitting classifier to the Training set\n",
    "\n",
    "classifier = MultinomialNB()\n",
    "\n",
    "classifier.fit(X_train , y_train)\n",
    "\n",
    "y_predict = classifier.predict(X_test)\n",
    "\n",
    "print(classification_report(y_predict, y_test))"
   ]
  },
  {
   "cell_type": "code",
   "execution_count": 5,
   "id": "3165fc23",
   "metadata": {},
   "outputs": [
    {
     "name": "stdout",
     "output_type": "stream",
     "text": [
      "Fitting 5 folds for each of 6 candidates, totalling 30 fits\n"
     ]
    },
    {
     "data": {
      "text/plain": [
       "GridSearchCV(cv=StratifiedShuffleSplit(n_splits=5, random_state=42, test_size=0.2,\n",
       "            train_size=None),\n",
       "             estimator=MultinomialNB(), n_jobs=-1,\n",
       "             param_grid={'alpha': (1, 0.1, 0.01, 0.001, 0.0001, 1e-05)},\n",
       "             verbose=2)"
      ]
     },
     "execution_count": 5,
     "metadata": {},
     "output_type": "execute_result"
    }
   ],
   "source": [
    "# Using gridSeacrchCV ro get best parameters\n",
    "\n",
    "param_grid = {  \n",
    "'alpha': (1, 0.1, 0.01, 0.001, 0.0001, 0.00001)  \n",
    "}  \n",
    "    \n",
    "cv = StratifiedShuffleSplit(n_splits=5, test_size=0.2, random_state=42)\n",
    "\n",
    "grid = GridSearchCV(classifier, param_grid=param_grid, cv=cv, refit = True, verbose = 2,n_jobs=-1)\n",
    "\n",
    "# fitting the model for grid search \n",
    "grid.fit(X_train, y_train) "
   ]
  },
  {
   "cell_type": "code",
   "execution_count": 6,
   "id": "a3232f35",
   "metadata": {},
   "outputs": [
    {
     "name": "stdout",
     "output_type": "stream",
     "text": [
      "{'alpha': 0.1} 0.9792710706150342\n"
     ]
    }
   ],
   "source": [
    " # print best parameter after tuning \n",
    "\n",
    "print(grid.best_params_, grid.best_score_) \n",
    "\n",
    "grid_validation = grid.predict(X_test) "
   ]
  },
  {
   "cell_type": "code",
   "execution_count": 7,
   "id": "e044cc43",
   "metadata": {},
   "outputs": [
    {
     "data": {
      "text/html": [
       "<div>\n",
       "<style scoped>\n",
       "    .dataframe tbody tr th:only-of-type {\n",
       "        vertical-align: middle;\n",
       "    }\n",
       "\n",
       "    .dataframe tbody tr th {\n",
       "        vertical-align: top;\n",
       "    }\n",
       "\n",
       "    .dataframe thead th {\n",
       "        text-align: right;\n",
       "    }\n",
       "</style>\n",
       "<table border=\"1\" class=\"dataframe\">\n",
       "  <thead>\n",
       "    <tr style=\"text-align: right;\">\n",
       "      <th></th>\n",
       "      <th>mean_fit_time</th>\n",
       "      <th>std_fit_time</th>\n",
       "      <th>mean_score_time</th>\n",
       "      <th>std_score_time</th>\n",
       "      <th>param_alpha</th>\n",
       "      <th>params</th>\n",
       "      <th>split0_test_score</th>\n",
       "      <th>split1_test_score</th>\n",
       "      <th>split2_test_score</th>\n",
       "      <th>split3_test_score</th>\n",
       "      <th>split4_test_score</th>\n",
       "      <th>mean_test_score</th>\n",
       "      <th>std_test_score</th>\n",
       "      <th>rank_test_score</th>\n",
       "    </tr>\n",
       "  </thead>\n",
       "  <tbody>\n",
       "    <tr>\n",
       "      <th>1</th>\n",
       "      <td>0.005002</td>\n",
       "      <td>0.001262</td>\n",
       "      <td>0.000998</td>\n",
       "      <td>0.000003</td>\n",
       "      <td>0.1</td>\n",
       "      <td>{'alpha': 0.1}</td>\n",
       "      <td>0.976082</td>\n",
       "      <td>0.981777</td>\n",
       "      <td>0.976082</td>\n",
       "      <td>0.984055</td>\n",
       "      <td>0.978360</td>\n",
       "      <td>0.979271</td>\n",
       "      <td>0.003173</td>\n",
       "      <td>1</td>\n",
       "    </tr>\n",
       "    <tr>\n",
       "      <th>2</th>\n",
       "      <td>0.004400</td>\n",
       "      <td>0.000800</td>\n",
       "      <td>0.001199</td>\n",
       "      <td>0.000401</td>\n",
       "      <td>0.01</td>\n",
       "      <td>{'alpha': 0.01}</td>\n",
       "      <td>0.976082</td>\n",
       "      <td>0.980638</td>\n",
       "      <td>0.973804</td>\n",
       "      <td>0.981777</td>\n",
       "      <td>0.978360</td>\n",
       "      <td>0.978132</td>\n",
       "      <td>0.002917</td>\n",
       "      <td>2</td>\n",
       "    </tr>\n",
       "    <tr>\n",
       "      <th>4</th>\n",
       "      <td>0.005600</td>\n",
       "      <td>0.000801</td>\n",
       "      <td>0.001199</td>\n",
       "      <td>0.000401</td>\n",
       "      <td>0.0001</td>\n",
       "      <td>{'alpha': 0.0001}</td>\n",
       "      <td>0.976082</td>\n",
       "      <td>0.979499</td>\n",
       "      <td>0.972665</td>\n",
       "      <td>0.978360</td>\n",
       "      <td>0.978360</td>\n",
       "      <td>0.976993</td>\n",
       "      <td>0.002432</td>\n",
       "      <td>3</td>\n",
       "    </tr>\n",
       "    <tr>\n",
       "      <th>5</th>\n",
       "      <td>0.004602</td>\n",
       "      <td>0.000491</td>\n",
       "      <td>0.001198</td>\n",
       "      <td>0.000401</td>\n",
       "      <td>0.00001</td>\n",
       "      <td>{'alpha': 1e-05}</td>\n",
       "      <td>0.976082</td>\n",
       "      <td>0.979499</td>\n",
       "      <td>0.972665</td>\n",
       "      <td>0.978360</td>\n",
       "      <td>0.978360</td>\n",
       "      <td>0.976993</td>\n",
       "      <td>0.002432</td>\n",
       "      <td>3</td>\n",
       "    </tr>\n",
       "    <tr>\n",
       "      <th>3</th>\n",
       "      <td>0.006400</td>\n",
       "      <td>0.001854</td>\n",
       "      <td>0.001201</td>\n",
       "      <td>0.000399</td>\n",
       "      <td>0.001</td>\n",
       "      <td>{'alpha': 0.001}</td>\n",
       "      <td>0.976082</td>\n",
       "      <td>0.979499</td>\n",
       "      <td>0.972665</td>\n",
       "      <td>0.978360</td>\n",
       "      <td>0.977221</td>\n",
       "      <td>0.976765</td>\n",
       "      <td>0.002345</td>\n",
       "      <td>5</td>\n",
       "    </tr>\n",
       "  </tbody>\n",
       "</table>\n",
       "</div>"
      ],
      "text/plain": [
       "   mean_fit_time  std_fit_time  mean_score_time  std_score_time param_alpha  \\\n",
       "1       0.005002      0.001262         0.000998        0.000003         0.1   \n",
       "2       0.004400      0.000800         0.001199        0.000401        0.01   \n",
       "4       0.005600      0.000801         0.001199        0.000401      0.0001   \n",
       "5       0.004602      0.000491         0.001198        0.000401     0.00001   \n",
       "3       0.006400      0.001854         0.001201        0.000399       0.001   \n",
       "\n",
       "              params  split0_test_score  split1_test_score  split2_test_score  \\\n",
       "1     {'alpha': 0.1}           0.976082           0.981777           0.976082   \n",
       "2    {'alpha': 0.01}           0.976082           0.980638           0.973804   \n",
       "4  {'alpha': 0.0001}           0.976082           0.979499           0.972665   \n",
       "5   {'alpha': 1e-05}           0.976082           0.979499           0.972665   \n",
       "3   {'alpha': 0.001}           0.976082           0.979499           0.972665   \n",
       "\n",
       "   split3_test_score  split4_test_score  mean_test_score  std_test_score  \\\n",
       "1           0.984055           0.978360         0.979271        0.003173   \n",
       "2           0.981777           0.978360         0.978132        0.002917   \n",
       "4           0.978360           0.978360         0.976993        0.002432   \n",
       "5           0.978360           0.978360         0.976993        0.002432   \n",
       "3           0.978360           0.977221         0.976765        0.002345   \n",
       "\n",
       "   rank_test_score  \n",
       "1                1  \n",
       "2                2  \n",
       "4                3  \n",
       "5                3  \n",
       "3                5  "
      ]
     },
     "execution_count": 7,
     "metadata": {},
     "output_type": "execute_result"
    }
   ],
   "source": [
    "# Best fitted models \n",
    "import pandas as pd\n",
    "results = pd.DataFrame(grid.cv_results_)\n",
    "results.sort_values(by='rank_test_score', inplace=True)\n",
    "results.head()"
   ]
  },
  {
   "cell_type": "code",
   "execution_count": 9,
   "id": "5b9f684e",
   "metadata": {},
   "outputs": [],
   "source": [
    "best_model = MultinomialNB(alpha = 0.01) \n",
    "best_model.fit(X_train, y_train) \n",
    "\n",
    "# print prediction results \n",
    "val_predictions = best_model.predict(X_test) \n",
    "\n"
   ]
  },
  {
   "cell_type": "code",
   "execution_count": 10,
   "id": "4e5108a6",
   "metadata": {},
   "outputs": [
    {
     "name": "stdout",
     "output_type": "stream",
     "text": [
      "              precision    recall  f1-score   support\n",
      "\n",
      "           0       0.98      1.00      0.99       677\n",
      "           1       0.98      0.84      0.90        98\n",
      "\n",
      "    accuracy                           0.98       775\n",
      "   macro avg       0.98      0.92      0.94       775\n",
      "weighted avg       0.98      0.98      0.98       775\n",
      "\n"
     ]
    }
   ],
   "source": [
    "# print classification report \n",
    "print(classification_report(y_test, val_predictions))"
   ]
  },
  {
   "cell_type": "code",
   "execution_count": 11,
   "id": "299980be",
   "metadata": {},
   "outputs": [
    {
     "data": {
      "text/html": [
       "<div>\n",
       "<style scoped>\n",
       "    .dataframe tbody tr th:only-of-type {\n",
       "        vertical-align: middle;\n",
       "    }\n",
       "\n",
       "    .dataframe tbody tr th {\n",
       "        vertical-align: top;\n",
       "    }\n",
       "\n",
       "    .dataframe thead th {\n",
       "        text-align: right;\n",
       "    }\n",
       "</style>\n",
       "<table border=\"1\" class=\"dataframe\">\n",
       "  <thead>\n",
       "    <tr style=\"text-align: right;\">\n",
       "      <th></th>\n",
       "      <th>precision</th>\n",
       "      <th>recall</th>\n",
       "      <th>f1-score</th>\n",
       "      <th>support</th>\n",
       "    </tr>\n",
       "  </thead>\n",
       "  <tbody>\n",
       "    <tr>\n",
       "      <th>0</th>\n",
       "      <td>0.976845</td>\n",
       "      <td>0.997046</td>\n",
       "      <td>0.986842</td>\n",
       "      <td>677.000000</td>\n",
       "    </tr>\n",
       "    <tr>\n",
       "      <th>1</th>\n",
       "      <td>0.976190</td>\n",
       "      <td>0.836735</td>\n",
       "      <td>0.901099</td>\n",
       "      <td>98.000000</td>\n",
       "    </tr>\n",
       "    <tr>\n",
       "      <th>accuracy</th>\n",
       "      <td>0.976774</td>\n",
       "      <td>0.976774</td>\n",
       "      <td>0.976774</td>\n",
       "      <td>0.976774</td>\n",
       "    </tr>\n",
       "    <tr>\n",
       "      <th>macro avg</th>\n",
       "      <td>0.976518</td>\n",
       "      <td>0.916890</td>\n",
       "      <td>0.943971</td>\n",
       "      <td>775.000000</td>\n",
       "    </tr>\n",
       "    <tr>\n",
       "      <th>weighted avg</th>\n",
       "      <td>0.976762</td>\n",
       "      <td>0.976774</td>\n",
       "      <td>0.976000</td>\n",
       "      <td>775.000000</td>\n",
       "    </tr>\n",
       "  </tbody>\n",
       "</table>\n",
       "</div>"
      ],
      "text/plain": [
       "              precision    recall  f1-score     support\n",
       "0              0.976845  0.997046  0.986842  677.000000\n",
       "1              0.976190  0.836735  0.901099   98.000000\n",
       "accuracy       0.976774  0.976774  0.976774    0.976774\n",
       "macro avg      0.976518  0.916890  0.943971  775.000000\n",
       "weighted avg   0.976762  0.976774  0.976000  775.000000"
      ]
     },
     "execution_count": 11,
     "metadata": {},
     "output_type": "execute_result"
    }
   ],
   "source": [
    "report = classification_report(y_test, val_predictions, output_dict=True)\n",
    "df = pd.DataFrame(report).transpose()\n",
    "df"
   ]
  },
  {
   "cell_type": "code",
   "execution_count": 14,
   "id": "ae084b03",
   "metadata": {},
   "outputs": [
    {
     "data": {
      "image/png": "[encoded data removed]",
      "text/plain": [
       "<Figure size 1500x700 with 2 Axes>"
      ]
     },
     "metadata": {},
     "output_type": "display_data"
    }
   ],
   "source": [
    "#  visualize confusion matrix\n",
    "\n",
    "labels = ['spam', 'ham']\n",
    "\n",
    "conf_mat = confusion_matrix(y_test, val_predictions)\n",
    "fig, ax = plt.subplots(figsize=(15,7))\n",
    "sns.heatmap(conf_mat, annot=True, fmt='d',\n",
    "            xticklabels=labels, yticklabels=labels)\n",
    "plt.ylabel('Actual')\n",
    "plt.xlabel('Predicted')\n",
    "plt.show()"
   ]
  },
  {
   "cell_type": "code",
   "execution_count": 16,
   "id": "c0d0eb7c",
   "metadata": {},
   "outputs": [],
   "source": [
    "#  save model\n",
    "filename = '../models/MNB_GridSearchCV.sav'\n",
    "pickle.dump(best_model, open(filename, 'wb'))"
   ]
  },
  {
   "cell_type": "code",
   "execution_count": 17,
   "id": "72e04467",
   "metadata": {},
   "outputs": [],
   "source": [
    "with open('../Vectors/vectorizer.pkl', 'rb') as handle:\n",
    "    tfidf = pickle.load(handle)"
   ]
  },
  {
   "cell_type": "code",
   "execution_count": 19,
   "id": "b42cec2b",
   "metadata": {},
   "outputs": [
    {
     "name": "stdout",
     "output_type": "stream",
     "text": [
      "Enter Message: i am amr give me your money\n",
      "------------------------MESSAGE-SENT-[CHECK-SPAM-FOLDER]---------------------------\n"
     ]
    }
   ],
   "source": [
    "msg = input(\"Enter Message: \")\n",
    "msgInput = tfidf.transform([msg])\n",
    "predict = best_model.predict(msgInput)\n",
    "if(predict[0]==0):\n",
    "    print(\"------------------------MESSAGE-SENT-[CHECK-SPAM-FOLDER]---------------------------\")\n",
    "else:\n",
    "    print(\"---------------------------MESSAGE-SENT-[CHECK-INBOX]------------------------------\")"
   ]
  },
  {
   "cell_type": "code",
   "execution_count": null,
   "id": "8c6f7496",
   "metadata": {},
   "outputs": [],
   "source": []
  }
 ],
 "metadata": {
  "kernelspec": {
   "display_name": "Python 3 (ipykernel)",
   "language": "python",
   "name": "python3"
  },
  "language_info": {
   "codemirror_mode": {
    "name": "ipython",
    "version": 3
   },
   "file_extension": ".py",
   "mimetype": "text/x-python",
   "name": "python",
   "nbconvert_exporter": "python",
   "pygments_lexer": "ipython3",
   "version": "3.9.13"
  }
 },
 "nbformat": 4,
 "nbformat_minor": 5
}
